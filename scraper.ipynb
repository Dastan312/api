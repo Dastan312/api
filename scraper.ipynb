{
 "cells": [
  {
   "cell_type": "code",
   "execution_count": 121,
   "metadata": {},
   "outputs": [],
   "source": [
    "import requests\n",
    "from bs4 import BeautifulSoup as bs\n",
    "import pandas as pd\n",
    "import itertools\n",
    "from tqdm.contrib.concurrent import thread_map\n",
    "import html5lib\n",
    "import urllib.request, urllib.error\n",
    "from concurrent.futures import ThreadPoolExecutor\n",
    "import openpyxl\n"
   ]
  },
  {
   "cell_type": "code",
   "execution_count": 132,
   "metadata": {},
   "outputs": [
    {
     "name": "stdout",
     "output_type": "stream",
     "text": [
      "ALL DONE\n"
     ]
    }
   ],
   "source": [
    "\n",
    "def get_all(i):\n",
    "    url = \"https://www.immoweb.be/en/search/house/for-sale?countries=BE&page=\"+ str(i) + \"&orderBy=relevance\"\n",
    "    response = requests.get(url)\n",
    "    soup = bs(response.text, 'html')\n",
    "\n",
    "    urls = []\n",
    "    for article in soup.find_all('iw-search-card-rendered'):\n",
    "        for link in article.find_all('a'):\n",
    "            urls.append(link.get('href'))\n",
    "    return urls\n",
    "\n",
    "def get_property(url):\n",
    "    \n",
    "    response = requests.get(url)\n",
    "    broken_links = []\n",
    "    if response.status_code != 200:\n",
    "          broken_links.append(url)\n",
    "          print(broken_links)\n",
    "    else:\n",
    "        df =  pd.concat(pd.read_html(response.text)).set_index(0).T \n",
    "        df['id'] = url.split('/')[-1]\n",
    "        df = df.set_index('id')\n",
    "        return df.loc[:, ~df.columns.duplicated()].copy()\n",
    "print(\"ALL DONE\")    "
   ]
  },
  {
   "cell_type": "code",
   "execution_count": 133,
   "metadata": {},
   "outputs": [
    {
     "name": "stderr",
     "output_type": "stream",
     "text": [
      "100%|██████████| 333/333 [00:45<00:00,  7.27it/s]\n"
     ]
    }
   ],
   "source": [
    "NB_PAGES = 334\n",
    "\n",
    "urls = list(itertools.chain.from_iterable(thread_map(get_all, range(1, NB_PAGES))))"
   ]
  },
  {
   "cell_type": "code",
   "execution_count": null,
   "metadata": {},
   "outputs": [],
   "source": [
    "# with ThreadPoolExecutor() as pool:\n",
    "#     results = list(pool.map(get_property, urls))\n",
    "  "
   ]
  },
  {
   "cell_type": "code",
   "execution_count": 134,
   "metadata": {},
   "outputs": [
    {
     "name": "stderr",
     "output_type": "stream",
     "text": [
      " 21%|██        | 2122/9990 [01:12<03:45, 34.83it/s]"
     ]
    },
    {
     "name": "stdout",
     "output_type": "stream",
     "text": [
      "['https://www.immoweb.be/en/classified/house/for-sale/lichtervelde/8810/10484888']\n"
     ]
    },
    {
     "name": "stderr",
     "output_type": "stream",
     "text": [
      " 54%|█████▎    | 5351/9990 [02:56<04:05, 18.86it/s]"
     ]
    },
    {
     "name": "stdout",
     "output_type": "stream",
     "text": [
      "['https://www.immoweb.be/en/classified/exceptional-property/for-sale/ezemaal/landen/3400/10552193']\n"
     ]
    },
    {
     "name": "stderr",
     "output_type": "stream",
     "text": [
      " 59%|█████▊    | 5865/9990 [03:15<02:14, 30.58it/s]"
     ]
    },
    {
     "name": "stdout",
     "output_type": "stream",
     "text": [
      "['https://www.immoweb.be/en/classified/mixed-use-building/for-sale/li%C3%A8ge/4000/10335997']\n"
     ]
    },
    {
     "name": "stderr",
     "output_type": "stream",
     "text": [
      "100%|██████████| 9990/9990 [05:30<00:00, 30.24it/s]\n"
     ]
    }
   ],
   "source": [
    "df1 = pd.DataFrame(pd.concat(thread_map(get_property, urls)))\n"
   ]
  },
  {
   "cell_type": "code",
   "execution_count": 143,
   "metadata": {},
   "outputs": [
    {
     "data": {
      "text/plain": [
       "Index([          'Available as of',            'Available date',\n",
       "       'Neighbourhood or locality',         'Construction year',\n",
       "              'Building condition',     'Street frontage width',\n",
       "             'Number of frontages',         'Surroundings type',\n",
       "                   'Virtual visit',               'Living area',\n",
       "       ...\n",
       "               'Extra information',   'Current monthly revenue',\n",
       "               'Age of annuitants',           'EPC description',\n",
       "               'Percentage rented',         'Venue of the sale',\n",
       "                  'Single session',            'Terms of visit',\n",
       "                  'Starting price',                  'Sea view'],\n",
       "      dtype='object', name=0, length=119)"
      ]
     },
     "execution_count": 143,
     "metadata": {},
     "output_type": "execute_result"
    }
   ],
   "source": [
    "a = df1.columns\n",
    "a"
   ]
  },
  {
   "cell_type": "code",
   "execution_count": 144,
   "metadata": {},
   "outputs": [
    {
     "data": {
      "text/plain": [
       "Index([            'Available date',          'Construction year',\n",
       "                            'Floor',           'Number of floors',\n",
       "               'Building condition',        'Number of frontages',\n",
       "           'Covered parking spaces',     'Outdoor parking spaces',\n",
       "                'Surroundings type',                'Living area',\n",
       "       ...\n",
       "                'Extra information',                   'Sea view',\n",
       "                'Number of annexes',            'EPC description',\n",
       "                'Venue of the sale',             'Single session',\n",
       "                   'Terms of visit',             'Starting price',\n",
       "                'Age of annuitants', 'Professional space surface'],\n",
       "      dtype='object', name=0, length=110)"
      ]
     },
     "execution_count": 144,
     "metadata": {},
     "output_type": "execute_result"
    }
   ],
   "source": [
    "b = df2.columns\n",
    "b"
   ]
  },
  {
   "cell_type": "code",
   "execution_count": 150,
   "metadata": {},
   "outputs": [
    {
     "name": "stdout",
     "output_type": "stream",
     "text": [
      "Surface of the plot\n",
      "Width of the lot on the street\n",
      "Connection to sewer network\n",
      "Gas, water & electricity\n",
      "Land is facing street\n",
      "Wooded land\n",
      "Plot at rear\n",
      "Flat land\n",
      "Maximum duration of annuity\n",
      "Current monthly revenue\n",
      "Percentage rented\n"
     ]
    }
   ],
   "source": [
    "for x in a:\n",
    "    if x not in b:\n",
    "        print(x)\n",
    "        \n",
    "\n"
   ]
  },
  {
   "cell_type": "code",
   "execution_count": 151,
   "metadata": {},
   "outputs": [
    {
     "name": "stdout",
     "output_type": "stream",
     "text": [
      "Floor\n",
      "Number of floors\n"
     ]
    }
   ],
   "source": [
    "for y in b:\n",
    "    if y not in a:\n",
    "        print(y)"
   ]
  },
  {
   "cell_type": "code",
   "execution_count": 153,
   "metadata": {},
   "outputs": [
    {
     "data": {
      "text/plain": [
       "<bound method DataFrame.info of 0                Available as of                Available date   \n",
       "id                                                               \n",
       "10572904  After signing the deed  September 30 2023 - 12:00 AM  \\\n",
       "10572903  After signing the deed  September 30 2023 - 12:00 AM   \n",
       "10572509  After signing the deed      August 6 2023 - 12:00 AM   \n",
       "10572508  After signing the deed  September 30 2023 - 12:00 AM   \n",
       "10572922           To be defined                           NaN   \n",
       "...                          ...                           ...   \n",
       "10463456                     NaN                           NaN   \n",
       "10570364  After signing the deed                           NaN   \n",
       "10569762                     NaN                           NaN   \n",
       "10571653                     NaN                           NaN   \n",
       "10557917                     NaN                           NaN   \n",
       "\n",
       "0        Neighbourhood or locality Construction year Building condition   \n",
       "id                                                                        \n",
       "10572904            Liège environs              1850               Good  \\\n",
       "10572903            Liège environs              1850               Good   \n",
       "10572509          Vlaamse Ardennen              1943               Good   \n",
       "10572508          Vlaamse Ardennen              1954               Good   \n",
       "10572922                       NaN              1910               Good   \n",
       "...                            ...               ...                ...   \n",
       "10463456                       NaN               NaN                NaN   \n",
       "10570364                       NaN               NaN               Good   \n",
       "10569762                       NaN              1939                NaN   \n",
       "10571653                       NaN               NaN               Good   \n",
       "10557917                       NaN              2023               Good   \n",
       "\n",
       "0        Street frontage width Number of frontages   \n",
       "id                                                   \n",
       "10572904                   7 m                   3  \\\n",
       "10572903                   7 m                   3   \n",
       "10572509                 9.8 m                   2   \n",
       "10572508                15.5 m                   4   \n",
       "10572922                  15 m                   3   \n",
       "...                        ...                 ...   \n",
       "10463456                   NaN                   4   \n",
       "10570364                   NaN                   3   \n",
       "10569762                   NaN                 NaN   \n",
       "10571653                   NaN                   4   \n",
       "10557917                   NaN                   3   \n",
       "\n",
       "0                                 Surroundings type   \n",
       "id                                                    \n",
       "10572904                                   Isolated  \\\n",
       "10572903                                   Isolated   \n",
       "10572509  Living area (residential, urban or rural)   \n",
       "10572508                                   Isolated   \n",
       "10572922                                Countryside   \n",
       "...                                             ...   \n",
       "10463456                                Countryside   \n",
       "10570364                                      Urban   \n",
       "10569762                                        NaN   \n",
       "10571653                                        NaN   \n",
       "10557917  Living area (residential, urban or rural)   \n",
       "\n",
       "0                     Virtual visit            Living area  ...   \n",
       "id                                                          ...   \n",
       "10572904  Link to the virtual visit  230  m² square meters  ...  \\\n",
       "10572903  Link to the virtual visit  230  m² square meters  ...   \n",
       "10572509                        NaN  145  m² square meters  ...   \n",
       "10572508                        NaN  202  m² square meters  ...   \n",
       "10572922                        NaN  306  m² square meters  ...   \n",
       "...                             ...                    ...  ...   \n",
       "10463456                        NaN  311  m² square meters  ...   \n",
       "10570364  Link to the virtual visit  204  m² square meters  ...   \n",
       "10569762                        NaN  187  m² square meters  ...   \n",
       "10571653                        NaN                    NaN  ...   \n",
       "10557917                        NaN  155  m² square meters  ...   \n",
       "\n",
       "0        Extra information Current monthly revenue Age of annuitants   \n",
       "id                                                                     \n",
       "10572904               NaN                     NaN               NaN  \\\n",
       "10572903               NaN                     NaN               NaN   \n",
       "10572509               NaN                     NaN               NaN   \n",
       "10572508               NaN                     NaN               NaN   \n",
       "10572922               NaN                     NaN               NaN   \n",
       "...                    ...                     ...               ...   \n",
       "10463456               NaN                     NaN               NaN   \n",
       "10570364               NaN                     NaN               NaN   \n",
       "10569762               NaN                     NaN               NaN   \n",
       "10571653               NaN                     NaN               NaN   \n",
       "10557917               NaN                     NaN               NaN   \n",
       "\n",
       "0        EPC description Percentage rented Venue of the sale Single session   \n",
       "id                                                                            \n",
       "10572904             NaN               NaN               NaN            NaN  \\\n",
       "10572903             NaN               NaN               NaN            NaN   \n",
       "10572509             NaN               NaN               NaN            NaN   \n",
       "10572508             NaN               NaN               NaN            NaN   \n",
       "10572922             NaN               NaN               NaN            NaN   \n",
       "...                  ...               ...               ...            ...   \n",
       "10463456             NaN               NaN               NaN            NaN   \n",
       "10570364             NaN               NaN               NaN            NaN   \n",
       "10569762             NaN               NaN               NaN            NaN   \n",
       "10571653             NaN               NaN               NaN            NaN   \n",
       "10557917             NaN               NaN               NaN            NaN   \n",
       "\n",
       "0        Terms of visit Starting price Sea view  \n",
       "id                                               \n",
       "10572904            NaN            NaN      NaN  \n",
       "10572903            NaN            NaN      NaN  \n",
       "10572509            NaN            NaN      NaN  \n",
       "10572508            NaN            NaN      NaN  \n",
       "10572922            NaN            NaN      NaN  \n",
       "...                 ...            ...      ...  \n",
       "10463456            NaN            NaN      NaN  \n",
       "10570364            NaN            NaN      NaN  \n",
       "10569762            NaN            NaN      NaN  \n",
       "10571653            NaN            NaN      NaN  \n",
       "10557917            NaN            NaN      NaN  \n",
       "\n",
       "[9987 rows x 119 columns]>"
      ]
     },
     "execution_count": 153,
     "metadata": {},
     "output_type": "execute_result"
    }
   ],
   "source": [
    "df1.info"
   ]
  },
  {
   "cell_type": "code",
   "execution_count": 154,
   "metadata": {},
   "outputs": [
    {
     "data": {
      "text/plain": [
       "<bound method DataFrame.info of 0                     Available date Construction year Floor Number of floors   \n",
       "id                                                                              \n",
       "10572051   October 1 2023 - 12:00 AM              2023     5                7  \\\n",
       "10572916  January 31 2024 - 12:00 AM              2023     3                4   \n",
       "10572661      June 1 2023 - 12:00 AM              2020     1                6   \n",
       "10572049   October 1 2023 - 12:00 AM              2023     6                6   \n",
       "10572751                         NaN              1969    10               18   \n",
       "...                              ...               ...   ...              ...   \n",
       "10379741                         NaN               NaN   NaN                5   \n",
       "10402797                         NaN              2023     2                1   \n",
       "10391991                         NaN              2009   NaN              NaN   \n",
       "10397730                         NaN              2022   NaN                3   \n",
       "10289494                         NaN              2022   NaN                2   \n",
       "\n",
       "0        Building condition Number of frontages Covered parking spaces   \n",
       "id                                                                       \n",
       "10572051             As new                   4                    101  \\\n",
       "10572916             As new                   4                    NaN   \n",
       "10572661             As new                   3                      1   \n",
       "10572049             As new                   4                    101   \n",
       "10572751      To be done up                 NaN                    NaN   \n",
       "...                     ...                 ...                    ...   \n",
       "10379741                NaN                   4                    NaN   \n",
       "10402797             As new                 NaN                    NaN   \n",
       "10391991                NaN                   2                    NaN   \n",
       "10397730                NaN                 NaN                    NaN   \n",
       "10289494                NaN                 NaN                    NaN   \n",
       "\n",
       "0        Outdoor parking spaces                          Surroundings type   \n",
       "id                                                                           \n",
       "10572051                     10                                      Urban  \\\n",
       "10572916                    124                                      Urban   \n",
       "10572661                      1  Living area (residential, urban or rural)   \n",
       "10572049                     10                                      Urban   \n",
       "10572751                    NaN                                      Urban   \n",
       "...                         ...                                        ...   \n",
       "10379741                      1                                        NaN   \n",
       "10402797                    NaN                                        NaN   \n",
       "10391991                    NaN                                        NaN   \n",
       "10397730                      1                                        NaN   \n",
       "10289494                    NaN                                Countryside   \n",
       "\n",
       "0                   Living area  ... Extra information Sea view   \n",
       "id                               ...                              \n",
       "10572051   99  m² square meters  ...               NaN      NaN  \\\n",
       "10572916  103  m² square meters  ...               NaN      NaN   \n",
       "10572661  120  m² square meters  ...               NaN      NaN   \n",
       "10572049   85  m² square meters  ...               NaN      NaN   \n",
       "10572751   73  m² square meters  ...               NaN      NaN   \n",
       "...                         ...  ...               ...      ...   \n",
       "10379741  114  m² square meters  ...               NaN      NaN   \n",
       "10402797  116  m² square meters  ...               NaN      NaN   \n",
       "10391991  203  m² square meters  ...               NaN      NaN   \n",
       "10397730   89  m² square meters  ...               NaN      NaN   \n",
       "10289494   93  m² square meters  ...               NaN      NaN   \n",
       "\n",
       "0        Number of annexes EPC description Venue of the sale Single session   \n",
       "id                                                                            \n",
       "10572051               NaN             NaN               NaN            NaN  \\\n",
       "10572916               NaN             NaN               NaN            NaN   \n",
       "10572661               NaN             NaN               NaN            NaN   \n",
       "10572049               NaN             NaN               NaN            NaN   \n",
       "10572751               NaN             NaN               NaN            NaN   \n",
       "...                    ...             ...               ...            ...   \n",
       "10379741               NaN             NaN               NaN            NaN   \n",
       "10402797               NaN             NaN               NaN            NaN   \n",
       "10391991               NaN             NaN               NaN            NaN   \n",
       "10397730               NaN             NaN               NaN            NaN   \n",
       "10289494               NaN             NaN               NaN            NaN   \n",
       "\n",
       "0        Terms of visit Starting price Age of annuitants   \n",
       "id                                                         \n",
       "10572051            NaN            NaN               NaN  \\\n",
       "10572916            NaN            NaN               NaN   \n",
       "10572661            NaN            NaN               NaN   \n",
       "10572049            NaN            NaN               NaN   \n",
       "10572751            NaN            NaN               NaN   \n",
       "...                 ...            ...               ...   \n",
       "10379741            NaN            NaN               NaN   \n",
       "10402797            NaN            NaN               NaN   \n",
       "10391991            NaN            NaN               NaN   \n",
       "10397730            NaN            NaN               NaN   \n",
       "10289494            NaN            NaN               NaN   \n",
       "\n",
       "0        Professional space surface  \n",
       "id                                   \n",
       "10572051                        NaN  \n",
       "10572916                        NaN  \n",
       "10572661                        NaN  \n",
       "10572049                        NaN  \n",
       "10572751                        NaN  \n",
       "...                             ...  \n",
       "10379741                        NaN  \n",
       "10402797                        NaN  \n",
       "10391991                        NaN  \n",
       "10397730                        NaN  \n",
       "10289494                        NaN  \n",
       "\n",
       "[9986 rows x 110 columns]>"
      ]
     },
     "execution_count": 154,
     "metadata": {},
     "output_type": "execute_result"
    }
   ],
   "source": [
    "df2.info"
   ]
  },
  {
   "cell_type": "code",
   "execution_count": 155,
   "metadata": {},
   "outputs": [],
   "source": [
    "df = pd.concat([df1, df2])"
   ]
  },
  {
   "cell_type": "code",
   "execution_count": 156,
   "metadata": {},
   "outputs": [
    {
     "data": {
      "text/plain": [
       "<bound method DataFrame.info of 0                Available as of                Available date   \n",
       "id                                                               \n",
       "10572904  After signing the deed  September 30 2023 - 12:00 AM  \\\n",
       "10572903  After signing the deed  September 30 2023 - 12:00 AM   \n",
       "10572509  After signing the deed      August 6 2023 - 12:00 AM   \n",
       "10572508  After signing the deed  September 30 2023 - 12:00 AM   \n",
       "10572922           To be defined                           NaN   \n",
       "...                          ...                           ...   \n",
       "10379741                     NaN                           NaN   \n",
       "10402797                     NaN                           NaN   \n",
       "10391991                     NaN                           NaN   \n",
       "10397730                     NaN                           NaN   \n",
       "10289494                     NaN                           NaN   \n",
       "\n",
       "0        Neighbourhood or locality Construction year Building condition   \n",
       "id                                                                        \n",
       "10572904            Liège environs              1850               Good  \\\n",
       "10572903            Liège environs              1850               Good   \n",
       "10572509          Vlaamse Ardennen              1943               Good   \n",
       "10572508          Vlaamse Ardennen              1954               Good   \n",
       "10572922                       NaN              1910               Good   \n",
       "...                            ...               ...                ...   \n",
       "10379741                       NaN               NaN                NaN   \n",
       "10402797                       NaN              2023             As new   \n",
       "10391991                       NaN              2009                NaN   \n",
       "10397730                       NaN              2022                NaN   \n",
       "10289494                       NaN              2022                NaN   \n",
       "\n",
       "0        Street frontage width Number of frontages   \n",
       "id                                                   \n",
       "10572904                   7 m                   3  \\\n",
       "10572903                   7 m                   3   \n",
       "10572509                 9.8 m                   2   \n",
       "10572508                15.5 m                   4   \n",
       "10572922                  15 m                   3   \n",
       "...                        ...                 ...   \n",
       "10379741                   NaN                   4   \n",
       "10402797                   NaN                 NaN   \n",
       "10391991                   NaN                   2   \n",
       "10397730                   NaN                 NaN   \n",
       "10289494                   NaN                 NaN   \n",
       "\n",
       "0                                 Surroundings type   \n",
       "id                                                    \n",
       "10572904                                   Isolated  \\\n",
       "10572903                                   Isolated   \n",
       "10572509  Living area (residential, urban or rural)   \n",
       "10572508                                   Isolated   \n",
       "10572922                                Countryside   \n",
       "...                                             ...   \n",
       "10379741                                        NaN   \n",
       "10402797                                        NaN   \n",
       "10391991                                        NaN   \n",
       "10397730                                        NaN   \n",
       "10289494                                Countryside   \n",
       "\n",
       "0                     Virtual visit            Living area  ...   \n",
       "id                                                          ...   \n",
       "10572904  Link to the virtual visit  230  m² square meters  ...  \\\n",
       "10572903  Link to the virtual visit  230  m² square meters  ...   \n",
       "10572509                        NaN  145  m² square meters  ...   \n",
       "10572508                        NaN  202  m² square meters  ...   \n",
       "10572922                        NaN  306  m² square meters  ...   \n",
       "...                             ...                    ...  ...   \n",
       "10379741                        NaN  114  m² square meters  ...   \n",
       "10402797                        NaN  116  m² square meters  ...   \n",
       "10391991                        NaN  203  m² square meters  ...   \n",
       "10397730                        NaN   89  m² square meters  ...   \n",
       "10289494                        NaN   93  m² square meters  ...   \n",
       "\n",
       "0        Age of annuitants EPC description Percentage rented   \n",
       "id                                                             \n",
       "10572904               NaN             NaN               NaN  \\\n",
       "10572903               NaN             NaN               NaN   \n",
       "10572509               NaN             NaN               NaN   \n",
       "10572508               NaN             NaN               NaN   \n",
       "10572922               NaN             NaN               NaN   \n",
       "...                    ...             ...               ...   \n",
       "10379741               NaN             NaN               NaN   \n",
       "10402797               NaN             NaN               NaN   \n",
       "10391991               NaN             NaN               NaN   \n",
       "10397730               NaN             NaN               NaN   \n",
       "10289494               NaN             NaN               NaN   \n",
       "\n",
       "0        Venue of the sale Single session Terms of visit Starting price   \n",
       "id                                                                        \n",
       "10572904               NaN            NaN            NaN            NaN  \\\n",
       "10572903               NaN            NaN            NaN            NaN   \n",
       "10572509               NaN            NaN            NaN            NaN   \n",
       "10572508               NaN            NaN            NaN            NaN   \n",
       "10572922               NaN            NaN            NaN            NaN   \n",
       "...                    ...            ...            ...            ...   \n",
       "10379741               NaN            NaN            NaN            NaN   \n",
       "10402797               NaN            NaN            NaN            NaN   \n",
       "10391991               NaN            NaN            NaN            NaN   \n",
       "10397730               NaN            NaN            NaN            NaN   \n",
       "10289494               NaN            NaN            NaN            NaN   \n",
       "\n",
       "0        Sea view Floor Number of floors  \n",
       "id                                        \n",
       "10572904      NaN   NaN              NaN  \n",
       "10572903      NaN   NaN              NaN  \n",
       "10572509      NaN   NaN              NaN  \n",
       "10572508      NaN   NaN              NaN  \n",
       "10572922      NaN   NaN              NaN  \n",
       "...           ...   ...              ...  \n",
       "10379741      NaN   NaN                5  \n",
       "10402797      NaN     2                1  \n",
       "10391991      NaN   NaN              NaN  \n",
       "10397730      NaN   NaN                3  \n",
       "10289494      NaN   NaN                2  \n",
       "\n",
       "[19973 rows x 121 columns]>"
      ]
     },
     "execution_count": 156,
     "metadata": {},
     "output_type": "execute_result"
    }
   ],
   "source": [
    "df.info"
   ]
  },
  {
   "cell_type": "code",
   "execution_count": 157,
   "metadata": {},
   "outputs": [],
   "source": [
    "df.to_excel('full.xlsx', index=True)"
   ]
  },
  {
   "cell_type": "code",
   "execution_count": null,
   "metadata": {},
   "outputs": [],
   "source": []
  }
 ],
 "metadata": {
  "kernelspec": {
   "display_name": "Python 3",
   "language": "python",
   "name": "python3"
  },
  "language_info": {
   "codemirror_mode": {
    "name": "ipython",
    "version": 3
   },
   "file_extension": ".py",
   "mimetype": "text/x-python",
   "name": "python",
   "nbconvert_exporter": "python",
   "pygments_lexer": "ipython3",
   "version": "3.11.3"
  },
  "orig_nbformat": 4
 },
 "nbformat": 4,
 "nbformat_minor": 2
}
